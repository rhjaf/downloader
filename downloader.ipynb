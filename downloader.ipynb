{
 "cells": [
  {
   "cell_type": "code",
   "execution_count": 29,
   "id": "5ba66e02-fe6e-4fe9-ba27-4b88d5958401",
   "metadata": {},
   "outputs": [
    {
     "name": "stdout",
     "output_type": "stream",
     "text": [
      "No captcha used! now providing the links\n",
      "دانلود پارت 1 با لینک مستقیم : https://dl6.downloadha.com/hosein/game/July2023/19/Updates/FH5.Update.v1.573.834.0_to_v1.600.803.0-OFME_www.Downloadha.com_.part01.rar\n",
      "دانلود پارت 2 با لینک مستقیم : https://dl6.downloadha.com/hosein/game/July2023/19/Updates/FH5.Update.v1.573.834.0_to_v1.600.803.0-OFME_www.Downloadha.com_.part02.rar\n",
      "دانلود پارت 3 با لینک مستقیم : https://dl6.downloadha.com/hosein/game/July2023/19/Updates/FH5.Update.v1.573.834.0_to_v1.600.803.0-OFME_www.Downloadha.com_.part03.rar\n",
      "دانلود پارت 4 با لینک مستقیم : https://dl6.downloadha.com/hosein/game/July2023/19/Updates/FH5.Update.v1.573.834.0_to_v1.600.803.0-OFME_www.Downloadha.com_.part04.rar\n",
      "دانلود پارت 5 با لینک مستقیم : https://dl6.downloadha.com/hosein/game/July2023/19/Updates/FH5.Update.v1.573.834.0_to_v1.600.803.0-OFME_www.Downloadha.com_.part05.rar\n",
      "دانلود پارت 6 با لینک مستقیم : https://dl6.downloadha.com/hosein/game/July2023/19/Updates/FH5.Update.v1.573.834.0_to_v1.600.803.0-OFME_www.Downloadha.com_.part06.rar\n",
      "دانلود پارت 7 با لینک مستقیم : https://dl6.downloadha.com/hosein/game/July2023/19/Updates/FH5.Update.v1.573.834.0_to_v1.600.803.0-OFME_www.Downloadha.com_.part07.rar\n",
      "دانلود پارت 8 با لینک مستقیم : https://dl6.downloadha.com/hosein/game/July2023/19/Updates/FH5.Update.v1.573.834.0_to_v1.600.803.0-OFME_www.Downloadha.com_.part08.rar\n",
      "دانلود پارت 9 با لینک مستقیم : https://dl6.downloadha.com/hosein/game/July2023/19/Updates/FH5.Update.v1.573.834.0_to_v1.600.803.0-OFME_www.Downloadha.com_.part09.rar\n",
      "دانلود پارت 10 با لینک مستقیم : https://dl6.downloadha.com/hosein/game/July2023/19/Updates/FH5.Update.v1.573.834.0_to_v1.600.803.0-OFME_www.Downloadha.com_.part10.rar\n",
      "دانلود پارت 1 با لینک مستقیم : https://dl6.downloadha.com/hosein/game/April2023/02/FH5/Forza.Horizon.5.PE.v1.573.834.0-DODI_www.Downloadha.com_.part01.rar\n",
      "دانلود پارت 2 با لینک مستقیم : https://dl6.downloadha.com/hosein/game/April2023/02/FH5/Forza.Horizon.5.PE.v1.573.834.0-DODI_www.Downloadha.com_.part02.rar\n",
      "دانلود پارت 3 با لینک مستقیم : https://dl6.downloadha.com/hosein/game/April2023/02/FH5/Forza.Horizon.5.PE.v1.573.834.0-DODI_www.Downloadha.com_.part03.rar\n",
      "دانلود پارت 4 با لینک مستقیم : https://dl6.downloadha.com/hosein/game/April2023/02/FH5/Forza.Horizon.5.PE.v1.573.834.0-DODI_www.Downloadha.com_.part04.rar\n",
      "دانلود پارت 5 با لینک مستقیم : https://dl6.downloadha.com/hosein/game/April2023/02/FH5/Forza.Horizon.5.PE.v1.573.834.0-DODI_www.Downloadha.com_.part05.rar\n",
      "دانلود پارت 6 با لینک مستقیم : https://dl6.downloadha.com/hosein/game/April2023/02/FH5/Forza.Horizon.5.PE.v1.573.834.0-DODI_www.Downloadha.com_.part06.rar\n",
      "دانلود پارت 7 با لینک مستقیم : https://dl6.downloadha.com/hosein/game/April2023/02/FH5/Forza.Horizon.5.PE.v1.573.834.0-DODI_www.Downloadha.com_.part07.rar\n",
      "دانلود پارت 8 با لینک مستقیم : https://dl6.downloadha.com/hosein/game/April2023/02/FH5/Forza.Horizon.5.PE.v1.573.834.0-DODI_www.Downloadha.com_.part08.rar\n",
      "دانلود پارت 9 با لینک مستقیم : https://dl6.downloadha.com/hosein/game/April2023/02/FH5/Forza.Horizon.5.PE.v1.573.834.0-DODI_www.Downloadha.com_.part09.rar\n",
      "دانلود پارت 10 با لینک مستقیم : https://dl6.downloadha.com/hosein/game/April2023/02/FH5/Forza.Horizon.5.PE.v1.573.834.0-DODI_www.Downloadha.com_.part10.rar\n",
      "دانلود پارت 11 با لینک مستقیم : https://dl6.downloadha.com/hosein/game/April2023/02/FH5/Forza.Horizon.5.PE.v1.573.834.0-DODI_www.Downloadha.com_.part11.rar\n",
      "دانلود پارت 12 با لینک مستقیم : https://dl6.downloadha.com/hosein/game/April2023/02/FH5/Forza.Horizon.5.PE.v1.573.834.0-DODI_www.Downloadha.com_.part12.rar\n",
      "دانلود پارت 13 با لینک مستقیم : https://dl6.downloadha.com/hosein/game/April2023/02/FH5/Forza.Horizon.5.PE.v1.573.834.0-DODI_www.Downloadha.com_.part13.rar\n",
      "دانلود پارت 14 با لینک مستقیم : https://dl6.downloadha.com/hosein/game/April2023/02/FH5/Forza.Horizon.5.PE.v1.573.834.0-DODI_www.Downloadha.com_.part14.rar\n",
      "دانلود پارت 15 با لینک مستقیم : https://dl6.downloadha.com/hosein/game/April2023/02/FH5/Forza.Horizon.5.PE.v1.573.834.0-DODI_www.Downloadha.com_.part15.rar\n",
      "دانلود پارت 16 با لینک مستقیم : https://dl6.downloadha.com/hosein/game/April2023/02/FH5/Forza.Horizon.5.PE.v1.573.834.0-DODI_www.Downloadha.com_.part16.rar\n",
      "دانلود پارت 17 با لینک مستقیم : https://dl6.downloadha.com/hosein/game/April2023/02/FH5/Forza.Horizon.5.PE.v1.573.834.0-DODI_www.Downloadha.com_.part17.rar\n",
      "دانلود پارت 18 با لینک مستقیم : https://dl6.downloadha.com/hosein/game/April2023/02/FH5/Forza.Horizon.5.PE.v1.573.834.0-DODI_www.Downloadha.com_.part18.rar\n",
      "دانلود پارت 19 با لینک مستقیم : https://dl6.downloadha.com/hosein/game/April2023/02/FH5/Forza.Horizon.5.PE.v1.573.834.0-DODI_www.Downloadha.com_.part19.rar\n",
      "دانلود پارت 20 با لینک مستقیم : https://dl6.downloadha.com/hosein/game/April2023/02/FH5/Forza.Horizon.5.PE.v1.573.834.0-DODI_www.Downloadha.com_.part20.rar\n",
      "دانلود پارت 21 با لینک مستقیم : https://dl6.downloadha.com/hosein/game/April2023/02/FH5/Forza.Horizon.5.PE.v1.573.834.0-DODI_www.Downloadha.com_.part21.rar\n",
      "دانلود پارت 22 با لینک مستقیم : https://dl6.downloadha.com/hosein/game/April2023/02/FH5/Forza.Horizon.5.PE.v1.573.834.0-DODI_www.Downloadha.com_.part22.rar\n",
      "دانلود پارت 23 با لینک مستقیم : https://dl6.downloadha.com/hosein/game/April2023/02/FH5/Forza.Horizon.5.PE.v1.573.834.0-DODI_www.Downloadha.com_.part23.rar\n",
      "دانلود پارت 24 با لینک مستقیم : https://dl6.downloadha.com/hosein/game/April2023/02/FH5/Forza.Horizon.5.PE.v1.573.834.0-DODI_www.Downloadha.com_.part24.rar\n",
      "دانلود پارت 25 با لینک مستقیم : https://dl6.downloadha.com/hosein/game/April2023/02/FH5/Forza.Horizon.5.PE.v1.573.834.0-DODI_www.Downloadha.com_.part25.rar\n",
      "دانلود پارت 1 با لینک مستقیم : https://dl6.downloadha.com/hosein/game/April2023/02/FH5/Forza.Horizon.5.PE.v1.573.834.0-DODI_Optional.Files_www.Downloadha.com_.part01.rar\n",
      "دانلود پارت 2 با لینک مستقیم : https://dl6.downloadha.com/hosein/game/April2023/02/FH5/Forza.Horizon.5.PE.v1.573.834.0-DODI_Optional.Files_www.Downloadha.com_.part02.rar\n",
      "دانلود پارت 3 با لینک مستقیم : https://dl6.downloadha.com/hosein/game/April2023/02/FH5/Forza.Horizon.5.PE.v1.573.834.0-DODI_Optional.Files_www.Downloadha.com_.part03.rar\n",
      "دانلود پارت 4 با لینک مستقیم : https://dl6.downloadha.com/hosein/game/April2023/02/FH5/Forza.Horizon.5.PE.v1.573.834.0-DODI_Optional.Files_www.Downloadha.com_.part04.rar\n",
      "دانلود پارت 5 با لینک مستقیم : https://dl6.downloadha.com/hosein/game/April2023/02/FH5/Forza.Horizon.5.PE.v1.573.834.0-DODI_Optional.Files_www.Downloadha.com_.part05.rar\n",
      "دانلود پارت 6 با لینک مستقیم : https://dl6.downloadha.com/hosein/game/April2023/02/FH5/Forza.Horizon.5.PE.v1.573.834.0-DODI_Optional.Files_www.Downloadha.com_.part06.rar\n",
      "دانلود پارت 7 با لینک مستقیم : https://dl6.downloadha.com/hosein/game/April2023/02/FH5/Forza.Horizon.5.PE.v1.573.834.0-DODI_Optional.Files_www.Downloadha.com_.part07.rar\n",
      "دانلود پارت 8 با لینک مستقیم : https://dl6.downloadha.com/hosein/game/April2023/02/FH5/Forza.Horizon.5.PE.v1.573.834.0-DODI_Optional.Files_www.Downloadha.com_.part08.rar\n",
      "دانلود پارت 9 با لینک مستقیم : https://dl6.downloadha.com/hosein/game/April2023/02/FH5/Forza.Horizon.5.PE.v1.573.834.0-DODI_Optional.Files_www.Downloadha.com_.part09.rar\n"
     ]
    }
   ],
   "source": [
    "from selenium import webdriver\n",
    "from selenium.webdriver.common.by import By\n",
    "from IPython.display import Image, display\n",
    "from time import sleep\n",
    "browser = webdriver.Firefox()\n",
    "# browser.fullscreen_window()\n",
    "# browser.set_window_size(2048,1080)\n",
    "browser.get(\"https://www.downloadha.com/game/forza-horizon-5/\")\n",
    "# browser.get(\"https://www.downloadha.com/game/pc4-death-stranding/\")\n",
    "# sleep(2)\n",
    "captcha = browser.find_elements(By.CLASS_NAME,\"passster-captcha-input\")\n",
    "import re\n",
    "regexp = re.compile(r'پارت')\n",
    "if (not(captcha)):\n",
    "    print(\"No captcha used! now providing the links\")\n",
    "    links = browser.find_elements(By.PARTIAL_LINK_TEXT,\"دانلود \")\n",
    "    for l in links:\n",
    "        if regexp.search(l.text):\n",
    "            # previous = l.find_element(By.XPATH, \"preceding-sibling::*[-1]\")\n",
    "            # print(\"#######\"+previous.text+\"\\n\")\n",
    "            print(l.text + \" : \" + l.get_attribute(\"href\"))\n",
    "else:\n",
    "    captcha_span = captcha[0]\n",
    "    captcha_input = captcha_span.find_elements(By.CSS_SELECTOR,\"*\")[0]\n",
    "    captcha_submit = captcha_span.find_elements(By.CSS_SELECTOR,\"*\")[1]\n",
    "    captcha_image = browser.find_elements(By.CLASS_NAME,\"passster-captcha\")[0]\n",
    "    # captcha_filed = browser.find_element(By.TAG_NAME,\"fieldset\")\n",
    "    print(captcha_image.screenshot('./captcha_image.png'))\n",
    "    # print(captcha_filed.screenshot('./captcha_image.png'))\n",
    "    display(Image(filename='./captcha_image.png'))"
   ]
  },
  {
   "cell_type": "code",
   "execution_count": 57,
   "id": "42b40509-cecb-42ac-83d7-855c7c062cf3",
   "metadata": {},
   "outputs": [
    {
     "name": "stdout",
     "output_type": "stream",
     "text": [
      "[]\n",
      "[]\n",
      "[]\n",
      "[]\n",
      "[]\n",
      "[]\n",
      "[]\n",
      "[]\n",
      "[]\n",
      "[]\n",
      "[]\n",
      "[]\n",
      "[]\n",
      "[]\n",
      "[]\n",
      "[]\n",
      "[]\n",
      "[]\n",
      "[]\n",
      "[]\n",
      "[]\n",
      "[]\n",
      "[]\n",
      "[]\n",
      "[]\n",
      "[]\n",
      "[]\n",
      "[]\n",
      "[]\n",
      "[]\n",
      "[]\n",
      "[]\n",
      "[]\n",
      "[]\n",
      "[]\n",
      "[]\n",
      "[]\n",
      "[]\n",
      "[]\n",
      "[]\n",
      "[]\n",
      "[]\n",
      "[]\n",
      "[]\n"
     ]
    }
   ],
   "source": [
    "for l in links:\n",
    "        if regexp.search(l.text):\n",
    "            # previous = l.find_element(By.XPATH, \"preceding-sibling::*[1]\")\n",
    "            # print(\"#######\"+previous.text+\"\\n\")\n",
    "            # l.fi\n",
    "            s = l.find_elements(By.XPATH, \"preceding-sibling::*\");\n",
    "            print(s)\n",
    "            # print(l.text + \" : \" + l.get_attribute(\"href\"))"
   ]
  },
  {
   "cell_type": "code",
   "execution_count": 50,
   "id": "3a4182f0-f13e-4f98-b27a-b20b28b96b8a",
   "metadata": {},
   "outputs": [
    {
     "data": {
      "text/plain": [
       "'دانلود پارت 3 با لینک مستقیم'"
      ]
     },
     "execution_count": 50,
     "metadata": {},
     "output_type": "execute_result"
    }
   ],
   "source": [
    "links[4].text"
   ]
  },
  {
   "cell_type": "code",
   "execution_count": null,
   "id": "3a4e7109-4ed5-4a6c-a242-cc2ee2df502e",
   "metadata": {},
   "outputs": [],
   "source": [
    "links[4]"
   ]
  }
 ],
 "metadata": {
  "kernelspec": {
   "display_name": "Python 3 (ipykernel)",
   "language": "python",
   "name": "python3"
  },
  "language_info": {
   "codemirror_mode": {
    "name": "ipython",
    "version": 3
   },
   "file_extension": ".py",
   "mimetype": "text/x-python",
   "name": "python",
   "nbconvert_exporter": "python",
   "pygments_lexer": "ipython3",
   "version": "3.10.8"
  }
 },
 "nbformat": 4,
 "nbformat_minor": 5
}
